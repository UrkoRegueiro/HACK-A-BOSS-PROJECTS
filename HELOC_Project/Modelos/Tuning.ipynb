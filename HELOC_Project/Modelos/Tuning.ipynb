{
 "cells": [
  {
   "cell_type": "code",
   "execution_count": 1,
   "id": "0800bc3c-7d80-4efd-a16f-6ff390a2290e",
   "metadata": {},
   "outputs": [],
   "source": [
    "import pandas as pd\n",
    "\n",
    "from sklearn.ensemble import RandomForestClassifier\n",
    "from sklearn.model_selection import GridSearchCV"
   ]
  },
  {
   "cell_type": "code",
   "execution_count": 2,
   "id": "04373dab-2f16-4b59-a5f5-c70abae5397d",
   "metadata": {},
   "outputs": [],
   "source": [
    "df = pd.read_csv(\"df_final_6k.csv\")"
   ]
  },
  {
   "cell_type": "code",
   "execution_count": null,
   "id": "216e3113-15c8-41cf-a27c-3c95805ba970",
   "metadata": {},
   "outputs": [],
   "source": [
    "X = df.drop([\"RiskPerformance\"], axis=1)\n",
    "y = df[\"RiskPerformance\"]\n",
    "\n",
    "model = GradientBoostingClassifier(random_state=42)\n",
    "\n",
    "params = {\n",
    "    \"n_estimators\"         : [100, 200, 300],\n",
    "    \"criterion\"            : [\"gini\", \"entropy\"],\n",
    "    \"max_depth\"            : [3, 4, 5],\n",
    "    \"max_features\"         : [2, 3],\n",
    "    \"max_leaf_nodes\"       : [None, 8],\n",
    "    \"min_impurity_decrease\": [None, 0.02, 0.3],\n",
    "    \"min_samples_split\"    : [None, 2, 5]\n",
    "}\n",
    "\n",
    "scorers = [\"precision\", \"recall_macro\"]\n",
    "\n",
    "grid_solver    = GridSearchCV(\n",
    "    estimator  = model,\n",
    "    param_grid = params,\n",
    "    scoring    = scorers,\n",
    "    cv         = 5,\n",
    "    refit      = \"precision\",\n",
    "    n_jobs     = -1\n",
    ")\n",
    "\n",
    "model_result = grid_solver.fit(X, y)\n",
    "\n",
    "print(model_result.cv_results_[\"mean_test_precision\"].mean())\n",
    "print(model_result.cv_results_[\"mean_test_recall_macro\"].mean())\n",
    "\n",
    "print(\"*\" * 100)\n",
    "\n",
    "print(model_result.best_score_)\n",
    "print(model_result.best_params_)"
   ]
  },
  {
   "cell_type": "code",
   "execution_count": null,
   "id": "d5cc409b-aec1-4d59-8649-2e457bdc9af8",
   "metadata": {},
   "outputs": [],
   "source": []
  }
 ],
 "metadata": {
  "kernelspec": {
   "display_name": "Python 3 (ipykernel)",
   "language": "python",
   "name": "python3"
  },
  "language_info": {
   "codemirror_mode": {
    "name": "ipython",
    "version": 3
   },
   "file_extension": ".py",
   "mimetype": "text/x-python",
   "name": "python",
   "nbconvert_exporter": "python",
   "pygments_lexer": "ipython3",
   "version": "3.11.5"
  }
 },
 "nbformat": 4,
 "nbformat_minor": 5
}
